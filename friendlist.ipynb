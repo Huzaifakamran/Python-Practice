{
 "cells": [
  {
   "cell_type": "code",
   "execution_count": 1,
   "metadata": {},
   "outputs": [
    {
     "name": "stdout",
     "output_type": "stream",
     "text": [
      "Do you want to addfriend or findfriend or exist  : addfriend\n",
      "Enter a friend name: majid\n",
      "['majid']\n",
      "Do you want to addfriend or findfriend or exist  : addfriend\n",
      "Enter a friend name: huzaifa\n",
      "['majid', 'huzaifa']\n",
      "Do you want to addfriend or findfriend or exist  : findfriend\n",
      "Enter your friendname: majid\n",
      "Yes this guy is in your friendlist\n",
      "Do you want to addfriend or findfriend or exist  : findfriend\n",
      "Enter your friendname: Majid\n",
      "Sorry this guy is not in your friendlist\n",
      "Do you want to addfriend or findfriend or exist  : exist\n"
     ]
    }
   ],
   "source": [
    "friendlist = []\n",
    "search = input(\"Do you want to addfriend or findfriend or exist  : \")\n",
    "while search != \"exist\":\n",
    "    if search == \"addfriend\":\n",
    "        name = input(\"Enter a friend name: \")\n",
    "        friendlist.append(name)\n",
    "        print(friendlist)\n",
    "        search = input(\"Do you want to addfriend or findfriend or exist  : \")\n",
    "\n",
    "    elif search == \"findfriend\":\n",
    "        friendname = input(\"Enter your friendname: \")\n",
    "        if friendname in friendlist:\n",
    "            print(\"Yes this guy is in your friendlist\")\n",
    "        else:\n",
    "            print(\"Sorry this guy is not in your friendlist\")\n",
    "\n",
    "        search = input(\"Do you want to addfriend or findfriend or exist  : \")\n"
   ]
  },
  {
   "cell_type": "code",
   "execution_count": 2,
   "metadata": {},
   "outputs": [
    {
     "name": "stdout",
     "output_type": "stream",
     "text": [
      "Please enter a number: 5\n",
      "7\n",
      "Do you want to add number [y/n]: y\n",
      "Please enter a number: 6\n",
      "8\n",
      "Do you want to add number [y/n]: n\n"
     ]
    }
   ],
   "source": [
    "number=input(\"Please enter a number: \")\n",
    "print(int(number) + 2)\n",
    "search=input(\"Do you want to add number [y/n]: \")\n",
    "while search==\"y\":\n",
    "    number = input(\"Please enter a number: \")\n",
    "    print(int(number) + 2)\n",
    "    search = input(\"Do you want to add number [y/n]: \")\n",
    "\n"
   ]
  },
  {
   "cell_type": "code",
   "execution_count": null,
   "metadata": {
    "collapsed": true
   },
   "outputs": [],
   "source": []
  }
 ],
 "metadata": {
  "kernelspec": {
   "display_name": "Python 3",
   "language": "python",
   "name": "python3"
  },
  "language_info": {
   "codemirror_mode": {
    "name": "ipython",
    "version": 3
   },
   "file_extension": ".py",
   "mimetype": "text/x-python",
   "name": "python",
   "nbconvert_exporter": "python",
   "pygments_lexer": "ipython3",
   "version": "3.6.2"
  }
 },
 "nbformat": 4,
 "nbformat_minor": 2
}
